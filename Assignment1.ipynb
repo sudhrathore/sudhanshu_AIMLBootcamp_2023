{
  "nbformat": 4,
  "nbformat_minor": 0,
  "metadata": {
    "colab": {
      "provenance": [],
      "authorship_tag": "ABX9TyNsvmoh6/l237BXAW+15MXC",
      "include_colab_link": true
    },
    "kernelspec": {
      "name": "python3",
      "display_name": "Python 3"
    },
    "language_info": {
      "name": "python"
    }
  },
  "cells": [
    {
      "cell_type": "markdown",
      "metadata": {
        "id": "view-in-github",
        "colab_type": "text"
      },
      "source": [
        "<a href=\"https://colab.research.google.com/github/sudhrathore/sudhanshu_AIMLBootcamp_Genzeon_2023/blob/main/Assignment1.ipynb\" target=\"_parent\"><img src=\"https://colab.research.google.com/assets/colab-badge.svg\" alt=\"Open In Colab\"/></a>"
      ]
    },
    {
      "cell_type": "code",
      "execution_count": 22,
      "metadata": {
        "colab": {
          "base_uri": "https://localhost:8080/"
        },
        "id": "Ul5QUZtSV5cB",
        "outputId": "a0630b7b-bcce-497e-a066-02b0bc5e80ee"
      },
      "outputs": [
        {
          "output_type": "stream",
          "name": "stdout",
          "text": [
            "Learning python in genzeon.\n",
            "learning python in genzeon.\n",
            "Learning Python in Genzeon.\n",
            "1\n",
            "<built-in method encode of str object at 0x7f632c220cb0>\n",
            "True\n",
            "5\n",
            "9\n",
            "False\n",
            "False\n",
            "False\n",
            "False\n",
            "False\n",
            "Learning Java in Genzeon.\n",
            "('Learning Python', ' in ', 'Genzeon.')\n",
            "16\n",
            "16\n",
            "['Learning', 'Python', 'in', 'Genzeon.']\n",
            "False\n",
            "Learning Python in Genzeon.\n",
            "lEARNING pYTHON IN gENZEON.\n",
            "Learning Python In Genzeon.\n",
            "LEARNING PYTHON IN GENZEON.\n"
          ]
        }
      ],
      "source": [
        "str=\"Learning Python in Genzeon.\"\n",
        "print(str.capitalize())\n",
        "print(str.casefold())\n",
        "print(str.center(10))\n",
        "print(str.count(\"Python\"))\n",
        "print(str.encode)\n",
        "print(str.endswith(\".\"))\n",
        "print(str.find(\"in\"))\n",
        "print(str.index(\"P\"))\n",
        "print(str.isalnum())\n",
        "print(str.isalpha())\n",
        "print(str.isdigit())\n",
        "print(str.isspace())\n",
        "print(str.isupper())\n",
        "print(str.replace(\"Python\",\"Java\"))\n",
        "print(str.partition(\" in \"))\n",
        "print(str.rfind(\"in\"))\n",
        "print(str.rindex(\"in\"))\n",
        "print(str.split(\" \"))\n",
        "print(str.startswith(\"P\"))\n",
        "print(str.strip())\n",
        "print(str.swapcase())\n",
        "print(str.title())\n",
        "print(str.upper())\n",
        "\n",
        "\n",
        "\n",
        "\n",
        "\n",
        "\n"
      ]
    },
    {
      "cell_type": "code",
      "source": [
        "list=[22,\"Genzeon\",34,\"Python\",90]\n",
        "list.append(103)\n",
        "print(list)\n",
        "\n",
        "list2 =list.copy()\n",
        "print(list2)\n",
        "\n",
        "print(list.count(22))\n",
        "\n",
        "list.extend([\"Genzeon\"])\n",
        "print(list)\n",
        "\n",
        "list.insert(3,\"learn\")\n",
        "print(list)\n",
        "\n",
        "\n"
      ],
      "metadata": {
        "colab": {
          "base_uri": "https://localhost:8080/"
        },
        "id": "Q2AH2nPwbsLH",
        "outputId": "711e2db8-57e9-4707-b45e-32b635d5dfc2"
      },
      "execution_count": 36,
      "outputs": [
        {
          "output_type": "stream",
          "name": "stdout",
          "text": [
            "[22, 'Genzeon', 34, 'Python', 90, 103]\n",
            "[22, 'Genzeon', 34, 'Python', 90, 103]\n",
            "1\n",
            "[22, 'Genzeon', 34, 'Python', 90, 103, 'Genzeon']\n",
            "[22, 'Genzeon', 34, 'learn', 'Python', 90, 103, 'Genzeon']\n"
          ]
        }
      ]
    },
    {
      "cell_type": "code",
      "source": [
        "tup=(\"hello\",3,5,\"Python\")\n",
        "print(tup.count(5))\n",
        "print(tup.index(\"Python\"))\n"
      ],
      "metadata": {
        "colab": {
          "base_uri": "https://localhost:8080/"
        },
        "id": "WIEwd-ysdtZs",
        "outputId": "9262414a-0d4d-4e70-b925-4a9a7b63ae85"
      },
      "execution_count": 38,
      "outputs": [
        {
          "output_type": "stream",
          "name": "stdout",
          "text": [
            "1\n",
            "3\n"
          ]
        }
      ]
    },
    {
      "cell_type": "code",
      "source": [
        "dic={'name':'sudhanshu','phone':'12345','address':'Pune'}\n",
        "print(dic['name'])\n",
        "print(dic.keys())\n",
        "print(dic.values())\n",
        "print(dic.get('name'))"
      ],
      "metadata": {
        "colab": {
          "base_uri": "https://localhost:8080/"
        },
        "id": "-Kkv19uYePTN",
        "outputId": "f2b3d323-dea9-457d-8582-d7a9c4348615"
      },
      "execution_count": 39,
      "outputs": [
        {
          "output_type": "stream",
          "name": "stdout",
          "text": [
            "sudhanshu\n",
            "dict_keys(['name', 'phone', 'address'])\n",
            "dict_values(['sudhanshu', '12345', 'Pune'])\n",
            "sudhanshu\n"
          ]
        }
      ]
    },
    {
      "cell_type": "code",
      "source": [
        "s1={1,3}\n",
        "s2={1,2,3,\"hi\",(1,2,3,4)}\n",
        "\n",
        "l=[1,3,5,7]\n",
        "s3=set(l)\n",
        "print(s3)\n",
        "\n",
        "s1.add(2)\n",
        "print(s1)\n",
        "\n",
        "s1.update([2,3,4])\n",
        "print(s1)\n",
        "\n",
        "a={1,2,3,4}\n",
        "b={4,5,6,7}\n",
        "\n",
        "print(a.difference(b))\n",
        "c=a.intersection(b)\n",
        "print(c)\n",
        "\n",
        "a.remove(4)\n",
        "print(a)\n",
        "\n",
        "print(a.union(b))\n",
        "\n",
        "print(a.intersection_update(b))\n",
        "\n",
        "\n"
      ],
      "metadata": {
        "colab": {
          "base_uri": "https://localhost:8080/"
        },
        "id": "P2O77oYxe1oU",
        "outputId": "10122157-092f-4ee7-ffc1-26a18761b900"
      },
      "execution_count": 45,
      "outputs": [
        {
          "output_type": "stream",
          "name": "stdout",
          "text": [
            "{1, 3, 5, 7}\n",
            "{1, 2, 3}\n",
            "{1, 2, 3, 4}\n",
            "{1, 2, 3}\n",
            "{4}\n",
            "{1, 2, 3}\n",
            "{1, 2, 3, 4, 5, 6, 7}\n",
            "None\n"
          ]
        }
      ]
    },
    {
      "cell_type": "code",
      "source": [
        "x=float(input(\"Enter a decimal number\"))\n",
        "y=bin(int(x))\n",
        "z=oct(int(x))\n",
        "w=hex(int(x))\n",
        "\n",
        "print(\"In Binary:\",y)\n",
        "print(\"In octal: \",x)\n",
        "print(\"In Hexadecimal: \",w)"
      ],
      "metadata": {
        "colab": {
          "base_uri": "https://localhost:8080/"
        },
        "id": "HsVFYjwUmsya",
        "outputId": "febb0e3a-89b2-4853-bde4-dba61dc8b3c0"
      },
      "execution_count": 51,
      "outputs": [
        {
          "output_type": "stream",
          "name": "stdout",
          "text": [
            "Enter a decimal number2.2\n",
            "In Binary: 0b10\n",
            "In octal:  2.2\n",
            "In Hexadecimal:  0x2\n"
          ]
        }
      ]
    },
    {
      "cell_type": "code",
      "source": [
        "# Addition\n",
        "a = 5\n",
        "b = 3\n",
        "sum = a + b\n",
        "print(\"Sum:\", sum)\n",
        "\n",
        "# Subtraction\n",
        "x = 10\n",
        "y = 7\n",
        "difference = x - y\n",
        "print(\"Difference:\", difference)\n",
        "\n",
        "# Multiplication\n",
        "p = 4\n",
        "q = 6\n",
        "product = p * q\n",
        "print(\"Product:\", product) \n",
        "\n",
        "# Division\n",
        "m = 20\n",
        "n = 5\n",
        "quotient = m / n\n",
        "print(\"Quotient:\", quotient)\n",
        "\n",
        "# Integer Division (Floor Division)\n",
        "p = 20\n",
        "q = 6\n",
        "integer_quotient = p // q\n",
        "print(\"Integer Quotient:\", integer_quotient) \n",
        "\n",
        "# Modulo (Remainder)\n",
        "p = 17\n",
        "q = 4\n",
        "remainder = p % q\n",
        "print(\"Remainder:\", remainder) \n",
        "\n",
        "# Exponentiation\n",
        "base = 2\n",
        "exponent = 3\n",
        "result = base ** exponent\n",
        "print(\"Result:\", result)\n"
      ],
      "metadata": {
        "colab": {
          "base_uri": "https://localhost:8080/"
        },
        "id": "dWVJVgrxqj0d",
        "outputId": "92e8c67b-dc5e-4fea-df58-3701bab40812"
      },
      "execution_count": 52,
      "outputs": [
        {
          "output_type": "stream",
          "name": "stdout",
          "text": [
            "Sum: 8\n",
            "Difference: 3\n",
            "Product: 24\n",
            "Quotient: 4.0\n",
            "Integer Quotient: 3\n",
            "Remainder: 1\n",
            "Result: 8\n"
          ]
        }
      ]
    },
    {
      "cell_type": "code",
      "source": [
        "#Assignment Operators\n",
        "x = 5\n",
        "x += 3  \n",
        "print(x)\n",
        "\n",
        "x -= 2  \n",
        "print(x)\n",
        "\n",
        "x *= 4\n",
        "print(x)\n",
        "\n",
        "x/=3\n",
        "print(x)\n",
        "\n",
        "x%=2\n",
        "print(x)\n",
        "\n",
        "\n",
        "\n"
      ],
      "metadata": {
        "colab": {
          "base_uri": "https://localhost:8080/"
        },
        "id": "WkZSKfkPrPS7",
        "outputId": "ce758a04-a83b-4a3e-ae2b-b3044ebcbce2"
      },
      "execution_count": 55,
      "outputs": [
        {
          "output_type": "stream",
          "name": "stdout",
          "text": [
            "8\n",
            "6\n",
            "24\n",
            "8.0\n",
            "0.0\n"
          ]
        }
      ]
    },
    {
      "cell_type": "code",
      "source": [],
      "metadata": {
        "id": "wXYvKBdcseI8"
      },
      "execution_count": null,
      "outputs": []
    }
  ]
}
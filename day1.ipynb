{
  "nbformat": 4,
  "nbformat_minor": 0,
  "metadata": {
    "colab": {
      "provenance": [],
      "authorship_tag": "ABX9TyO+yA76xoJSE9kpiITD7J0/",
      "include_colab_link": true
    },
    "kernelspec": {
      "name": "python3",
      "display_name": "Python 3"
    },
    "language_info": {
      "name": "python"
    }
  },
  "cells": [
    {
      "cell_type": "markdown",
      "metadata": {
        "id": "view-in-github",
        "colab_type": "text"
      },
      "source": [
        "<a href=\"https://colab.research.google.com/github/sudhrathore/sudhanshu_AIMLBootcamp_Genzeon_2023/blob/main/day1.ipynb\" target=\"_parent\"><img src=\"https://colab.research.google.com/assets/colab-badge.svg\" alt=\"Open In Colab\"/></a>"
      ]
    },
    {
      "cell_type": "code",
      "execution_count": null,
      "metadata": {
        "colab": {
          "base_uri": "https://localhost:8080/"
        },
        "id": "WYadRpov9Dyc",
        "outputId": "dae5374a-b06c-42b8-8543-fc70dfd00dee"
      },
      "outputs": [
        {
          "output_type": "stream",
          "name": "stdout",
          "text": [
            "8\n"
          ]
        }
      ],
      "source": [
        "a=11\n",
        "b=12\n",
        "print(a&b)\n",
        "print(a^b)\n",
        "print"
      ]
    },
    {
      "cell_type": "code",
      "source": [
        "x=\"hello world\"\n",
        "y={1:a,2:b}\n",
        "print('h' in x)\n",
        "print(1 in y)"
      ],
      "metadata": {
        "colab": {
          "base_uri": "https://localhost:8080/"
        },
        "id": "8N1oxSqo9ZvM",
        "outputId": "3e64fb26-2391-4480-e519-3819796c3bab"
      },
      "execution_count": null,
      "outputs": [
        {
          "output_type": "stream",
          "name": "stdout",
          "text": [
            "True\n",
            "True\n"
          ]
        }
      ]
    },
    {
      "cell_type": "code",
      "source": [
        "mystr=\"we are learning python at genzeon\"\n",
        "print(mystr.upper())\n",
        "print(mystr.capitalize())\n"
      ],
      "metadata": {
        "colab": {
          "base_uri": "https://localhost:8080/"
        },
        "id": "W2uYKwKgBRlg",
        "outputId": "2faa42e0-f166-4b0b-e77d-2029ad1fcb41"
      },
      "execution_count": 3,
      "outputs": [
        {
          "output_type": "stream",
          "name": "stdout",
          "text": [
            "WE ARE LEARNING PYTHON AT GENZEON\n",
            "We are learning python at genzeon\n"
          ]
        }
      ]
    },
    {
      "cell_type": "code",
      "source": [
        "my_l=[1,\"hello\",3,5]\n",
        "print(my_l[1][1])\n",
        "print()"
      ],
      "metadata": {
        "colab": {
          "base_uri": "https://localhost:8080/"
        },
        "id": "5-q-AsDgDNCU",
        "outputId": "9908a6a2-6f32-4697-8469-3faae4e7926d"
      },
      "execution_count": 6,
      "outputs": [
        {
          "output_type": "stream",
          "name": "stdout",
          "text": [
            "e\n"
          ]
        }
      ]
    },
    {
      "cell_type": "code",
      "source": [
        "lis=[1,2,3,4,5]\n",
        "lis.append(5)\n",
        "print(lis)\n",
        "lis.extend([6,7,8])\n",
        "print(lis)"
      ],
      "metadata": {
        "colab": {
          "base_uri": "https://localhost:8080/"
        },
        "id": "rm_cDwpcEfoI",
        "outputId": "ef8fbb5d-c59f-4c74-c972-5862a1ccf511"
      },
      "execution_count": 8,
      "outputs": [
        {
          "output_type": "stream",
          "name": "stdout",
          "text": [
            "[1, 2, 3, 4, 5, 5]\n",
            "[1, 2, 3, 4, 5, 5, 6, 7, 8]\n"
          ]
        }
      ]
    },
    {
      "cell_type": "code",
      "source": [
        "l1=[11,22,42,21,88,30,94,77,45]\n",
        "\n",
        "l1.sort\n",
        "print(l1)\n"
      ],
      "metadata": {
        "colab": {
          "base_uri": "https://localhost:8080/"
        },
        "id": "EzBBt1RjFCRI",
        "outputId": "662ceacc-b5f1-4a38-93f9-962eedbae335"
      },
      "execution_count": 9,
      "outputs": [
        {
          "output_type": "stream",
          "name": "stdout",
          "text": [
            "[11, 22, 42, 21, 88, 30, 94, 77, 45]\n"
          ]
        }
      ]
    }
  ]
}
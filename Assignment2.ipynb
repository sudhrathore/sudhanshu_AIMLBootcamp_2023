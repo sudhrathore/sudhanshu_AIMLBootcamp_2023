{
  "nbformat": 4,
  "nbformat_minor": 0,
  "metadata": {
    "colab": {
      "provenance": [],
      "authorship_tag": "ABX9TyN75OspsuuDVeYbr9UATZsW",
      "include_colab_link": true
    },
    "kernelspec": {
      "name": "python3",
      "display_name": "Python 3"
    },
    "language_info": {
      "name": "python"
    }
  },
  "cells": [
    {
      "cell_type": "markdown",
      "metadata": {
        "id": "view-in-github",
        "colab_type": "text"
      },
      "source": [
        "<a href=\"https://colab.research.google.com/github/sudhrathore/sudhanshu_AIMLBootcamp_Genzeon_2023/blob/main/Assignment2.ipynb\" target=\"_parent\"><img src=\"https://colab.research.google.com/assets/colab-badge.svg\" alt=\"Open In Colab\"/></a>"
      ]
    },
    {
      "cell_type": "code",
      "execution_count": 1,
      "metadata": {
        "colab": {
          "base_uri": "https://localhost:8080/"
        },
        "id": "lRoWD262dmc2",
        "outputId": "60ed0306-e1f6-4b38-fc6f-6893112a8232"
      },
      "outputs": [
        {
          "output_type": "stream",
          "name": "stdout",
          "text": [
            "Enter a comma-separated sequence of words: orange, white, red, cyan, green, magenta, cyan, pink, white\n",
            "Sorted unique words:\n",
            "cyan, green, magenta, orange, pink, red, white\n"
          ]
        }
      ],
      "source": [
        "#question1\n",
        "word_sequence = input(\"Enter a comma-separated sequence of words: \")\n",
        "\n",
        "words = [word.strip() for word in word_sequence.split(\",\")]\n",
        "\n",
        "unique_words = sorted(set(words))\n",
        "\n",
        "print(\"Sorted unique words:\")\n",
        "print(\", \".join(unique_words))\n"
      ]
    },
    {
      "cell_type": "code",
      "source": [
        "#question1 using another method\n",
        "\n",
        "\n",
        "word_sequence = input(\"Enter a comma-separated sequence of words: \")\n",
        "\n",
        "words = [word.strip() for word in word_sequence.split(\",\")]\n",
        "\n",
        "unique_words = []\n",
        "for word in words:\n",
        "    if word not in unique_words:\n",
        "        unique_words.append(word)\n",
        "\n",
        "unique_words.sort()\n",
        "print(\"Sorted unique words:\",unique_words)"
      ],
      "metadata": {
        "colab": {
          "base_uri": "https://localhost:8080/"
        },
        "id": "2WT04mvfgZ1K",
        "outputId": "835f570e-f682-413f-bb74-5228419c3b5a"
      },
      "execution_count": 3,
      "outputs": [
        {
          "output_type": "stream",
          "name": "stdout",
          "text": [
            "Enter a comma-separated sequence of words:  orange, white, red, cyan, green, magenta, cyan, pink, white\n",
            "Sorted unique words: ['cyan', 'green', 'magenta', 'orange', 'pink', 'red', 'white']\n"
          ]
        }
      ]
    },
    {
      "cell_type": "code",
      "source": [
        "#Question2\n",
        "string_squence=input(\"Enter a string : \")\n",
        "replace_string=string_squence.replace(\" \",\"-\")\n",
        "print(replace_string)"
      ],
      "metadata": {
        "colab": {
          "base_uri": "https://localhost:8080/"
        },
        "id": "DouW9fmXifkR",
        "outputId": "e07f7eb1-c1ee-44c7-8cf9-adcd3177790c"
      },
      "execution_count": 4,
      "outputs": [
        {
          "output_type": "stream",
          "name": "stdout",
          "text": [
            "Enter a string : This program converts spaces into hyphen\n",
            "This-program-converts-spaces-into-hyphen\n"
          ]
        }
      ]
    },
    {
      "cell_type": "code",
      "source": [
        "#question 3\n",
        "\n",
        "statelist= [\"Delhi\",\"Telangana\",\"Goa\",\"AP\",\"Kerela\"]\n",
        "\n",
        "for word in statelist:\n",
        "  fw=word[0].lower\n",
        "  lw=word[-1].upper\n",
        "  "
      ],
      "metadata": {
        "id": "-sllfQHDp0z7"
      },
      "execution_count": null,
      "outputs": []
    },
    {
      "cell_type": "code",
      "source": [],
      "metadata": {
        "id": "upIK6CcLpqay"
      },
      "execution_count": null,
      "outputs": []
    }
  ]
}
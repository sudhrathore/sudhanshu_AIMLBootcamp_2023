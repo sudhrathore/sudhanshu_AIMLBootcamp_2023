{
  "nbformat": 4,
  "nbformat_minor": 0,
  "metadata": {
    "colab": {
      "provenance": [],
      "authorship_tag": "ABX9TyMYgDp7USUhE7UHR33qrJvl",
      "include_colab_link": true
    },
    "kernelspec": {
      "name": "python3",
      "display_name": "Python 3"
    },
    "language_info": {
      "name": "python"
    }
  },
  "cells": [
    {
      "cell_type": "markdown",
      "metadata": {
        "id": "view-in-github",
        "colab_type": "text"
      },
      "source": [
        "<a href=\"https://colab.research.google.com/github/sudhrathore/sudhanshu_AIMLBootcamp_Genzeon_2023/blob/main/Kmean_Hardcode.ipynb\" target=\"_parent\"><img src=\"https://colab.research.google.com/assets/colab-badge.svg\" alt=\"Open In Colab\"/></a>"
      ]
    },
    {
      "cell_type": "code",
      "execution_count": 3,
      "metadata": {
        "id": "TLma1GSfTFNI"
      },
      "outputs": [],
      "source": [
        "#K means algorithm hard coded\n",
        "#Step 1 Generate 11 random points\n",
        "import random\n",
        "\n",
        "\n",
        "\n",
        "def random_point_generator(min_value, max_value, no_of_points):\n",
        "  points = []\n",
        "  for i in range(no_of_points + 1):\n",
        "    x = random.randint(min_value, max_value)\n",
        "    y = random.randint(min_value, max_value)\n",
        "    point = [x,y]\n",
        "    points.append(point)\n",
        "  return points\n",
        "\n",
        "\n",
        "\n",
        "dataset = random_point_generator(1,100,50)\n",
        "#dataset = np.array([[1,2],[1,4],[1,0],[4,2],[4,4],[4,0]])\n",
        "\n",
        "\n",
        ""
      ]
    },
    {
      "cell_type": "code",
      "source": [
        "#Step 2 Select the value of k\n",
        "k = int(input(\"Enter value of k:\"))\n",
        "k"
      ],
      "metadata": {
        "colab": {
          "base_uri": "https://localhost:8080/"
        },
        "id": "yiZYwmpEZ-UG",
        "outputId": "767912e8-3a5d-4872-a948-c8d6f966a521"
      },
      "execution_count": 4,
      "outputs": [
        {
          "name": "stdout",
          "output_type": "stream",
          "text": [
            "Enter value of k:3\n"
          ]
        },
        {
          "output_type": "execute_result",
          "data": {
            "text/plain": [
              "3"
            ]
          },
          "metadata": {},
          "execution_count": 4
        }
      ]
    },
    {
      "cell_type": "code",
      "source": [
        "centroids = []\n",
        "for i in range(k):\n",
        "  centroids.append(dataset[i])\n",
        "\n",
        "centroids"
      ],
      "metadata": {
        "colab": {
          "base_uri": "https://localhost:8080/"
        },
        "id": "BrMpw5cmaBzw",
        "outputId": "ada3aa74-0a41-4d5b-f333-1c5c7cc9b514"
      },
      "execution_count": 5,
      "outputs": [
        {
          "output_type": "execute_result",
          "data": {
            "text/plain": [
              "[[86, 98], [84, 8], [59, 88]]"
            ]
          },
          "metadata": {},
          "execution_count": 5
        }
      ]
    },
    {
      "cell_type": "code",
      "source": [
        "clusters = []\n",
        "for i in range(k):\n",
        "  clusters.append([])\n",
        "\n",
        "for i in range(len(centroids)):\n",
        "  clusters[i].append(centroids[i])\n",
        "\n",
        "clusters"
      ],
      "metadata": {
        "colab": {
          "base_uri": "https://localhost:8080/"
        },
        "id": "ZAWzJE-kaNM_",
        "outputId": "975e3c46-7624-4730-8bf5-abdc65f29f9e"
      },
      "execution_count": 6,
      "outputs": [
        {
          "output_type": "execute_result",
          "data": {
            "text/plain": [
              "[[[86, 98]], [[84, 8]], [[59, 88]]]"
            ]
          },
          "metadata": {},
          "execution_count": 6
        }
      ]
    },
    {
      "cell_type": "code",
      "source": [
        "#Step 3 find the Euclidean distance for each point wrt the centroids\n",
        "# ((x - x1)**2 + (y - y1)**2)**0.5\n",
        "def euclidean_dist_calculator(point,c):\n",
        "  return ((point[0] - c[0])**2 + (point[1] - c[1])**2)**0.5"
      ],
      "metadata": {
        "id": "4Vf9D2JCaRDZ"
      },
      "execution_count": 7,
      "outputs": []
    },
    {
      "cell_type": "code",
      "source": [
        "import numpy as np\n",
        "for i in range(k,len(dataset)):\n",
        "  #find euclidean distance of ith point with each centroid\n",
        "  euclidean_distances = []\n",
        "  for centroid in centroids:\n",
        "    euclidean_distances.append(euclidean_dist_calculator(dataset[i],centroid))\n",
        "\n",
        "  cluster_index = np.argmin(euclidean_distances)\n",
        "  clusters[cluster_index].append(dataset[i])\n",
        "  #Updating the centroid\n",
        "  clusters[cluster_index][0][0] = (clusters[cluster_index][0][0] + dataset[i][0]) / 2\n",
        "  clusters[cluster_index][0][1] = (clusters[cluster_index][0][1] + dataset[i][1]) / 2\n",
        "\n",
        "  #updating the centroids list\n",
        "  centroids[cluster_index][0] = clusters[cluster_index][0][0]\n",
        "  centroids[cluster_index][1] = clusters[cluster_index][0][1]"
      ],
      "metadata": {
        "id": "FPGNmvfKaWlH"
      },
      "execution_count": 8,
      "outputs": []
    },
    {
      "cell_type": "code",
      "source": [
        "for i in range(2, len(dataset)):\n",
        "  KMeansClustering(dataset[i], c1, c2)\n",
        "\n",
        "print(cluster_1)\n",
        "print(cluster_2)"
      ],
      "metadata": {
        "colab": {
          "base_uri": "https://localhost:8080/",
          "height": 235
        },
        "id": "bbq6IdDVaavr",
        "outputId": "ff7de56d-e0c7-4e68-c246-64a4a77eb8ea"
      },
      "execution_count": 9,
      "outputs": [
        {
          "output_type": "error",
          "ename": "NameError",
          "evalue": "ignored",
          "traceback": [
            "\u001b[0;31m---------------------------------------------------------------------------\u001b[0m",
            "\u001b[0;31mNameError\u001b[0m                                 Traceback (most recent call last)",
            "\u001b[0;32m<ipython-input-9-86bf8c2601a3>\u001b[0m in \u001b[0;36m<cell line: 1>\u001b[0;34m()\u001b[0m\n\u001b[1;32m      1\u001b[0m \u001b[0;32mfor\u001b[0m \u001b[0mi\u001b[0m \u001b[0;32min\u001b[0m \u001b[0mrange\u001b[0m\u001b[0;34m(\u001b[0m\u001b[0;36m2\u001b[0m\u001b[0;34m,\u001b[0m \u001b[0mlen\u001b[0m\u001b[0;34m(\u001b[0m\u001b[0mdataset\u001b[0m\u001b[0;34m)\u001b[0m\u001b[0;34m)\u001b[0m\u001b[0;34m:\u001b[0m\u001b[0;34m\u001b[0m\u001b[0;34m\u001b[0m\u001b[0m\n\u001b[0;32m----> 2\u001b[0;31m   \u001b[0mKMeansClustering\u001b[0m\u001b[0;34m(\u001b[0m\u001b[0mdataset\u001b[0m\u001b[0;34m[\u001b[0m\u001b[0mi\u001b[0m\u001b[0;34m]\u001b[0m\u001b[0;34m,\u001b[0m \u001b[0mc1\u001b[0m\u001b[0;34m,\u001b[0m \u001b[0mc2\u001b[0m\u001b[0;34m)\u001b[0m\u001b[0;34m\u001b[0m\u001b[0;34m\u001b[0m\u001b[0m\n\u001b[0m\u001b[1;32m      3\u001b[0m \u001b[0;34m\u001b[0m\u001b[0m\n\u001b[1;32m      4\u001b[0m \u001b[0mprint\u001b[0m\u001b[0;34m(\u001b[0m\u001b[0mcluster_1\u001b[0m\u001b[0;34m)\u001b[0m\u001b[0;34m\u001b[0m\u001b[0;34m\u001b[0m\u001b[0m\n\u001b[1;32m      5\u001b[0m \u001b[0mprint\u001b[0m\u001b[0;34m(\u001b[0m\u001b[0mcluster_2\u001b[0m\u001b[0;34m)\u001b[0m\u001b[0;34m\u001b[0m\u001b[0;34m\u001b[0m\u001b[0m\n",
            "\u001b[0;31mNameError\u001b[0m: name 'KMeansClustering' is not defined"
          ]
        }
      ]
    }
  ]
}
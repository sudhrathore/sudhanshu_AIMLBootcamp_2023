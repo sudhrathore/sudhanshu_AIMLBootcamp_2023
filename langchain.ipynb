{
  "nbformat": 4,
  "nbformat_minor": 0,
  "metadata": {
    "colab": {
      "provenance": [],
      "authorship_tag": "ABX9TyMMl02VGyhQCgRky/KQCr9Z",
      "include_colab_link": true
    },
    "kernelspec": {
      "name": "python3",
      "display_name": "Python 3"
    },
    "language_info": {
      "name": "python"
    }
  },
  "cells": [
    {
      "cell_type": "markdown",
      "metadata": {
        "id": "view-in-github",
        "colab_type": "text"
      },
      "source": [
        "<a href=\"https://colab.research.google.com/github/sudhrathore/sudhanshu_AIMLBootcamp_2023/blob/main/langchain.ipynb\" target=\"_parent\"><img src=\"https://colab.research.google.com/assets/colab-badge.svg\" alt=\"Open In Colab\"/></a>"
      ]
    },
    {
      "cell_type": "code",
      "execution_count": 1,
      "metadata": {
        "colab": {
          "base_uri": "https://localhost:8080/"
        },
        "id": "5nBCtBadRd0L",
        "outputId": "9bb5d2b6-5c13-49cf-c46b-579a59c567ab"
      },
      "outputs": [
        {
          "output_type": "stream",
          "name": "stdout",
          "text": [
            "Collecting langchain\n",
            "  Downloading langchain-0.0.230-py3-none-any.whl (1.3 MB)\n",
            "\u001b[2K     \u001b[90m━━━━━━━━━━━━━━━━━━━━━━━━━━━━━━━━━━━━━━━━\u001b[0m \u001b[32m1.3/1.3 MB\u001b[0m \u001b[31m14.5 MB/s\u001b[0m eta \u001b[36m0:00:00\u001b[0m\n",
            "\u001b[?25hCollecting openai\n",
            "  Downloading openai-0.27.8-py3-none-any.whl (73 kB)\n",
            "\u001b[2K     \u001b[90m━━━━━━━━━━━━━━━━━━━━━━━━━━━━━━━━━━━━━━━━\u001b[0m \u001b[32m73.6/73.6 kB\u001b[0m \u001b[31m8.1 MB/s\u001b[0m eta \u001b[36m0:00:00\u001b[0m\n",
            "\u001b[?25hRequirement already satisfied: PyYAML>=5.4.1 in /usr/local/lib/python3.10/dist-packages (from langchain) (6.0)\n",
            "Requirement already satisfied: SQLAlchemy<3,>=1.4 in /usr/local/lib/python3.10/dist-packages (from langchain) (2.0.18)\n",
            "Requirement already satisfied: aiohttp<4.0.0,>=3.8.3 in /usr/local/lib/python3.10/dist-packages (from langchain) (3.8.4)\n",
            "Requirement already satisfied: async-timeout<5.0.0,>=4.0.0 in /usr/local/lib/python3.10/dist-packages (from langchain) (4.0.2)\n",
            "Collecting dataclasses-json<0.6.0,>=0.5.7 (from langchain)\n",
            "  Downloading dataclasses_json-0.5.9-py3-none-any.whl (26 kB)\n",
            "Collecting langchainplus-sdk<0.0.21,>=0.0.20 (from langchain)\n",
            "  Downloading langchainplus_sdk-0.0.20-py3-none-any.whl (25 kB)\n",
            "Requirement already satisfied: numexpr<3.0.0,>=2.8.4 in /usr/local/lib/python3.10/dist-packages (from langchain) (2.8.4)\n",
            "Requirement already satisfied: numpy<2,>=1 in /usr/local/lib/python3.10/dist-packages (from langchain) (1.22.4)\n",
            "Collecting openapi-schema-pydantic<2.0,>=1.2 (from langchain)\n",
            "  Downloading openapi_schema_pydantic-1.2.4-py3-none-any.whl (90 kB)\n",
            "\u001b[2K     \u001b[90m━━━━━━━━━━━━━━━━━━━━━━━━━━━━━━━━━━━━━━━━\u001b[0m \u001b[32m90.0/90.0 kB\u001b[0m \u001b[31m8.3 MB/s\u001b[0m eta \u001b[36m0:00:00\u001b[0m\n",
            "\u001b[?25hRequirement already satisfied: pydantic<2,>=1 in /usr/local/lib/python3.10/dist-packages (from langchain) (1.10.11)\n",
            "Requirement already satisfied: requests<3,>=2 in /usr/local/lib/python3.10/dist-packages (from langchain) (2.27.1)\n",
            "Requirement already satisfied: tenacity<9.0.0,>=8.1.0 in /usr/local/lib/python3.10/dist-packages (from langchain) (8.2.2)\n",
            "Requirement already satisfied: tqdm in /usr/local/lib/python3.10/dist-packages (from openai) (4.65.0)\n",
            "Requirement already satisfied: attrs>=17.3.0 in /usr/local/lib/python3.10/dist-packages (from aiohttp<4.0.0,>=3.8.3->langchain) (23.1.0)\n",
            "Requirement already satisfied: charset-normalizer<4.0,>=2.0 in /usr/local/lib/python3.10/dist-packages (from aiohttp<4.0.0,>=3.8.3->langchain) (2.0.12)\n",
            "Requirement already satisfied: multidict<7.0,>=4.5 in /usr/local/lib/python3.10/dist-packages (from aiohttp<4.0.0,>=3.8.3->langchain) (6.0.4)\n",
            "Requirement already satisfied: yarl<2.0,>=1.0 in /usr/local/lib/python3.10/dist-packages (from aiohttp<4.0.0,>=3.8.3->langchain) (1.9.2)\n",
            "Requirement already satisfied: frozenlist>=1.1.1 in /usr/local/lib/python3.10/dist-packages (from aiohttp<4.0.0,>=3.8.3->langchain) (1.3.3)\n",
            "Requirement already satisfied: aiosignal>=1.1.2 in /usr/local/lib/python3.10/dist-packages (from aiohttp<4.0.0,>=3.8.3->langchain) (1.3.1)\n",
            "Collecting marshmallow<4.0.0,>=3.3.0 (from dataclasses-json<0.6.0,>=0.5.7->langchain)\n",
            "  Downloading marshmallow-3.19.0-py3-none-any.whl (49 kB)\n",
            "\u001b[2K     \u001b[90m━━━━━━━━━━━━━━━━━━━━━━━━━━━━━━━━━━━━━━━━\u001b[0m \u001b[32m49.1/49.1 kB\u001b[0m \u001b[31m5.8 MB/s\u001b[0m eta \u001b[36m0:00:00\u001b[0m\n",
            "\u001b[?25hCollecting marshmallow-enum<2.0.0,>=1.5.1 (from dataclasses-json<0.6.0,>=0.5.7->langchain)\n",
            "  Downloading marshmallow_enum-1.5.1-py2.py3-none-any.whl (4.2 kB)\n",
            "Collecting typing-inspect>=0.4.0 (from dataclasses-json<0.6.0,>=0.5.7->langchain)\n",
            "  Downloading typing_inspect-0.9.0-py3-none-any.whl (8.8 kB)\n",
            "Requirement already satisfied: typing-extensions>=4.2.0 in /usr/local/lib/python3.10/dist-packages (from pydantic<2,>=1->langchain) (4.7.1)\n",
            "Requirement already satisfied: urllib3<1.27,>=1.21.1 in /usr/local/lib/python3.10/dist-packages (from requests<3,>=2->langchain) (1.26.16)\n",
            "Requirement already satisfied: certifi>=2017.4.17 in /usr/local/lib/python3.10/dist-packages (from requests<3,>=2->langchain) (2023.5.7)\n",
            "Requirement already satisfied: idna<4,>=2.5 in /usr/local/lib/python3.10/dist-packages (from requests<3,>=2->langchain) (3.4)\n",
            "Requirement already satisfied: greenlet!=0.4.17 in /usr/local/lib/python3.10/dist-packages (from SQLAlchemy<3,>=1.4->langchain) (2.0.2)\n",
            "Requirement already satisfied: packaging>=17.0 in /usr/local/lib/python3.10/dist-packages (from marshmallow<4.0.0,>=3.3.0->dataclasses-json<0.6.0,>=0.5.7->langchain) (23.1)\n",
            "Collecting mypy-extensions>=0.3.0 (from typing-inspect>=0.4.0->dataclasses-json<0.6.0,>=0.5.7->langchain)\n",
            "  Downloading mypy_extensions-1.0.0-py3-none-any.whl (4.7 kB)\n",
            "Installing collected packages: mypy-extensions, marshmallow, typing-inspect, openapi-schema-pydantic, marshmallow-enum, langchainplus-sdk, openai, dataclasses-json, langchain\n",
            "Successfully installed dataclasses-json-0.5.9 langchain-0.0.230 langchainplus-sdk-0.0.20 marshmallow-3.19.0 marshmallow-enum-1.5.1 mypy-extensions-1.0.0 openai-0.27.8 openapi-schema-pydantic-1.2.4 typing-inspect-0.9.0\n"
          ]
        }
      ],
      "source": [
        "!pip install langchain openai"
      ]
    },
    {
      "cell_type": "code",
      "source": [
        "import openai\n",
        "import os\n",
        "from langchain import PromptTemplate\n",
        "from langchain.llms import OpenAI\n",
        "from langchain.chains import LLMChain\n",
        "from langchain.chains import SequentialChain"
      ],
      "metadata": {
        "id": "cCn_n22URlX4"
      },
      "execution_count": 2,
      "outputs": []
    },
    {
      "cell_type": "code",
      "source": [
        "linkedin_post_template=\"\"\"write post for company.The post is on the latesr app :{app} that we are launching\"\"\"\n"
      ],
      "metadata": {
        "id": "PN-ulNFPRpd8"
      },
      "execution_count": 3,
      "outputs": []
    },
    {
      "cell_type": "code",
      "source": [
        "os.environ[\"OPENAI_API_KEY\"]=\"Your api key"
      ],
      "metadata": {
        "id": "rAEJSrBqRr5F"
      },
      "execution_count": 4,
      "outputs": []
    },
    {
      "cell_type": "code",
      "source": [
        "prompt_template=PromptTemplate(input_variables=['app'],template=linkedin_post_template)\n"
      ],
      "metadata": {
        "id": "N_-LQE7RRwJL"
      },
      "execution_count": 5,
      "outputs": []
    },
    {
      "cell_type": "code",
      "source": [
        "post_llm=OpenAI(temperature=0,model_name=\"gpt-3.5-turbo\")\n"
      ],
      "metadata": {
        "colab": {
          "base_uri": "https://localhost:8080/"
        },
        "id": "mvpKxhfBRzLa",
        "outputId": "452015a6-4283-45bc-f81b-f4686fd54dd6"
      },
      "execution_count": 6,
      "outputs": [
        {
          "output_type": "stream",
          "name": "stderr",
          "text": [
            "/usr/local/lib/python3.10/dist-packages/langchain/llms/openai.py:173: UserWarning: You are trying to use a chat model. This way of initializing it is no longer supported. Instead, please use: `from langchain.chat_models import ChatOpenAI`\n",
            "  warnings.warn(\n",
            "/usr/local/lib/python3.10/dist-packages/langchain/llms/openai.py:753: UserWarning: You are trying to use a chat model. This way of initializing it is no longer supported. Instead, please use: `from langchain.chat_models import ChatOpenAI`\n",
            "  warnings.warn(\n"
          ]
        }
      ]
    },
    {
      "cell_type": "code",
      "source": [
        "post_chain=LLMChain(llm=post_llm,prompt=prompt_template,output_key=\"post\",verbose=True)\n"
      ],
      "metadata": {
        "id": "m0EwaHz0R1an"
      },
      "execution_count": 7,
      "outputs": []
    },
    {
      "cell_type": "code",
      "source": [
        "post_chain({\"app\":\"Cattle Detection\"})\n"
      ],
      "metadata": {
        "colab": {
          "base_uri": "https://localhost:8080/"
        },
        "id": "wC6My6nCR40h",
        "outputId": "1700b1d6-bda0-43b4-efb8-5482fc2d719c"
      },
      "execution_count": 8,
      "outputs": [
        {
          "output_type": "stream",
          "name": "stdout",
          "text": [
            "\n",
            "\n",
            "\u001b[1m> Entering new  chain...\u001b[0m\n",
            "Prompt after formatting:\n",
            "\u001b[32;1m\u001b[1;3mwrite post for company.The post is on the latesr app :Cattle Detection that we are launching\u001b[0m\n",
            "\n",
            "\u001b[1m> Finished chain.\u001b[0m\n"
          ]
        },
        {
          "output_type": "execute_result",
          "data": {
            "text/plain": [
              "{'app': 'Cattle Detection',\n",
              " 'post': \"📢 Introducing Our Latest Innovation: Cattle Detection App! 🐄\\n\\n🚀 We are thrilled to announce the launch of our groundbreaking Cattle Detection App, revolutionizing the way farmers manage their livestock! 🌾\\n\\n🤔 Are you tired of manually counting and tracking your cattle? Do you wish there was a more efficient way to monitor their health and whereabouts? Look no further! Our Cattle Detection App is here to simplify your farming operations and enhance productivity like never before. 📲\\n\\n🔍 With our cutting-edge technology, you can now effortlessly identify, track, and manage your cattle with just a few taps on your smartphone. Here's what our app brings to the table: \\n\\n1️⃣ Accurate Cattle Identification: Our advanced image recognition algorithms can accurately identify individual cattle based on their unique markings, ensuring precise tracking and monitoring.\\n\\n2️⃣ Real-time Location Tracking: Say goodbye to the hassle of physically searching for your cattle! Our app utilizes GPS technology to provide real-time location updates, allowing you to quickly locate any animal within your herd.\\n\\n3️⃣ Health Monitoring: Keep a close eye on your cattle's well-being with our app's health monitoring feature. Receive instant alerts for any abnormal behavior, potential illnesses, or injuries, enabling you to take prompt action and ensure the overall health of your livestock.\\n\\n4️⃣ Inventory Management: Effortlessly maintain an organized inventory of your cattle, including detailed information such as breed, age, weight, and medical history. Our app's intuitive interface makes it easy to access and update this information whenever needed.\\n\\n5️⃣ Data Analytics: Leverage the power of data to make informed decisions and optimize your farming practices. Our app provides comprehensive analytics, giving you valuable insights into your cattle's growth patterns, feeding habits, and overall performance.\\n\\n🌟 We understand the importance of efficiency and accuracy in modern farming, and our Cattle Detection App is designed to meet these needs head-on. Whether you're a small-scale farmer or managing a large-scale operation, our app is tailored to streamline your cattle management process, saving you time, effort, and resources. 🌾\\n\\n💡 Ready to take your cattle management to the next level? Download our Cattle Detection App today and experience the future of farming firsthand! 📲🐄\\n\\n🌐 Visit our website for more information and to get started: [Company Website]\\n\\n#CattleDetection #FarmingInnovation #LivestockManagement #Efficiency #Productivity\"}"
            ]
          },
          "metadata": {},
          "execution_count": 8
        }
      ]
    },
    {
      "cell_type": "markdown",
      "source": [
        "**Second prompt template**\n"
      ],
      "metadata": {
        "id": "FNvPHEXNSD35"
      }
    },
    {
      "cell_type": "code",
      "source": [
        "review_template=\"\"\"Suggest changes that would have a higher impact on investors as well as encourage customer to buy\n",
        "The post:{post}\"\"\"\n"
      ],
      "metadata": {
        "id": "Jy1RWuswR6o6"
      },
      "execution_count": 9,
      "outputs": []
    },
    {
      "cell_type": "code",
      "source": [
        "prompt_review_template=PromptTemplate(input_variables=['post'],template=review_template)\n"
      ],
      "metadata": {
        "id": "wPo3aO4fSOPn"
      },
      "execution_count": 10,
      "outputs": []
    },
    {
      "cell_type": "code",
      "source": [
        "review_chain=LLMChain(llm=post_llm,prompt=prompt_review_template,output_key=\"review\",verbose=True)"
      ],
      "metadata": {
        "id": "d03hUBmPSQJZ"
      },
      "execution_count": 11,
      "outputs": []
    },
    {
      "cell_type": "code",
      "source": [
        "overall_chain=SequentialChain(chains=[post_chain,review_chain],input_variables=[\"app\"],output_variables=[\"post\",\"review\"],verbose=True)\n"
      ],
      "metadata": {
        "id": "QJjaQPcUSSKf"
      },
      "execution_count": 12,
      "outputs": []
    },
    {
      "cell_type": "code",
      "source": [
        "overall_chain({\"app\":\"Disease detection\"})\n"
      ],
      "metadata": {
        "colab": {
          "base_uri": "https://localhost:8080/"
        },
        "id": "tH9pWrrkSUtX",
        "outputId": "78ad96e9-08c1-4ecd-d014-25b51ed120da"
      },
      "execution_count": 13,
      "outputs": [
        {
          "output_type": "stream",
          "name": "stdout",
          "text": [
            "\n",
            "\n",
            "\u001b[1m> Entering new  chain...\u001b[0m\n",
            "\n",
            "\n",
            "\u001b[1m> Entering new  chain...\u001b[0m\n",
            "Prompt after formatting:\n",
            "\u001b[32;1m\u001b[1;3mwrite post for company.The post is on the latesr app :Disease detection that we are launching\u001b[0m\n",
            "\n",
            "\u001b[1m> Finished chain.\u001b[0m\n",
            "\n",
            "\n",
            "\u001b[1m> Entering new  chain...\u001b[0m\n",
            "Prompt after formatting:\n",
            "\u001b[32;1m\u001b[1;3mSuggest changes that would have a higher impact on investors as well as encourage customer to buy\n",
            "The post:📢 Exciting News Alert! 🚀\n",
            "\n",
            "📱 Introducing our latest innovation: Disease Detection App! 🌟\n",
            "\n",
            "We are thrilled to announce the launch of our groundbreaking Disease Detection App, designed to revolutionize the way we approach healthcare and empower individuals to take control of their well-being. 🌡️💪\n",
            "\n",
            "🔬 With the rapid advancements in technology, we have harnessed the power of artificial intelligence and machine learning to create an app that can detect diseases with unparalleled accuracy. 🤖💡\n",
            "\n",
            "🌍 Our mission is to make healthcare accessible to everyone, regardless of their location or financial situation. With our Disease Detection App, you can now have a virtual doctor in your pocket, ready to provide you with instant insights and guidance. 🩺📲\n",
            "\n",
            "🔍 How does it work? Our app utilizes state-of-the-art algorithms to analyze various health parameters, such as heart rate, blood pressure, temperature, and more. By simply inputting your data, the app will generate a comprehensive health report, highlighting any potential red flags or early signs of diseases. 📊📈\n",
            "\n",
            "📈 Early detection is key when it comes to managing and treating diseases effectively. Our app aims to empower individuals to take proactive steps towards their health by providing them with timely information and personalized recommendations. 💡💊\n",
            "\n",
            "🌟 Key Features of our Disease Detection App:\n",
            "\n",
            "1️⃣ Instant Health Assessment: Get a comprehensive health report within seconds, providing you with valuable insights into your well-being.\n",
            "\n",
            "2️⃣ Personalized Recommendations: Receive tailored recommendations based on your health data, helping you make informed decisions about your lifestyle and habits.\n",
            "\n",
            "3️⃣ Real-time Monitoring: Keep track of your health parameters over time, allowing you to identify any patterns or changes that may require attention.\n",
            "\n",
            "4️⃣ Secure and Private: We prioritize your privacy and ensure that your health data is protected with the highest level of security.\n",
            "\n",
            "🌐 Our Disease Detection App is now available for download on both iOS and Android devices. Join us in this journey towards a healthier future by taking advantage of this cutting-edge technology. 📲💪\n",
            "\n",
            "🌈 Together, let's empower ourselves with knowledge and take control of our health. Download our Disease Detection App today and embark on a path towards a healthier, happier life! 🌟🌍\n",
            "\n",
            "#DiseaseDetectionApp #HealthcareInnovation #EmpowerYourHealth #StayHealthy\u001b[0m\n",
            "\n",
            "\u001b[1m> Finished chain.\u001b[0m\n",
            "\n",
            "\u001b[1m> Finished chain.\u001b[0m\n"
          ]
        },
        {
          "output_type": "execute_result",
          "data": {
            "text/plain": [
              "{'app': 'Disease detection',\n",
              " 'post': \"📢 Exciting News Alert! 🚀\\n\\n📱 Introducing our latest innovation: Disease Detection App! 🌟\\n\\nWe are thrilled to announce the launch of our groundbreaking Disease Detection App, designed to revolutionize the way we approach healthcare and empower individuals to take control of their well-being. 🌡️💪\\n\\n🔬 With the rapid advancements in technology, we have harnessed the power of artificial intelligence and machine learning to create an app that can detect diseases with unparalleled accuracy. 🤖💡\\n\\n🌍 Our mission is to make healthcare accessible to everyone, regardless of their location or financial situation. With our Disease Detection App, you can now have a virtual doctor in your pocket, ready to provide you with instant insights and guidance. 🩺📲\\n\\n🔍 How does it work? Our app utilizes state-of-the-art algorithms to analyze various health parameters, such as heart rate, blood pressure, temperature, and more. By simply inputting your data, the app will generate a comprehensive health report, highlighting any potential red flags or early signs of diseases. 📊📈\\n\\n📈 Early detection is key when it comes to managing and treating diseases effectively. Our app aims to empower individuals to take proactive steps towards their health by providing them with timely information and personalized recommendations. 💡💊\\n\\n🌟 Key Features of our Disease Detection App:\\n\\n1️⃣ Instant Health Assessment: Get a comprehensive health report within seconds, providing you with valuable insights into your well-being.\\n\\n2️⃣ Personalized Recommendations: Receive tailored recommendations based on your health data, helping you make informed decisions about your lifestyle and habits.\\n\\n3️⃣ Real-time Monitoring: Keep track of your health parameters over time, allowing you to identify any patterns or changes that may require attention.\\n\\n4️⃣ Secure and Private: We prioritize your privacy and ensure that your health data is protected with the highest level of security.\\n\\n🌐 Our Disease Detection App is now available for download on both iOS and Android devices. Join us in this journey towards a healthier future by taking advantage of this cutting-edge technology. 📲💪\\n\\n🌈 Together, let's empower ourselves with knowledge and take control of our health. Download our Disease Detection App today and embark on a path towards a healthier, happier life! 🌟🌍\\n\\n#DiseaseDetectionApp #HealthcareInnovation #EmpowerYourHealth #StayHealthy\",\n",
              " 'review': \"📢 Exciting News Alert! 🚀\\n\\n📱 Introducing our latest innovation: Disease Detection App! 🌟\\n\\nWe are thrilled to announce the launch of our groundbreaking Disease Detection App, designed to revolutionize the way we approach healthcare and empower individuals to take control of their well-being. 🌡️💪\\n\\n🔬 With the rapid advancements in technology, we have harnessed the power of artificial intelligence and machine learning to create an app that can detect diseases with unparalleled accuracy. 🤖💡\\n\\n🌍 Our mission is to make healthcare accessible to everyone, regardless of their location or financial situation. With our Disease Detection App, you can now have a virtual doctor in your pocket, ready to provide you with instant insights and guidance. 🩺📲\\n\\n🔍 How does it work? Our app utilizes state-of-the-art algorithms to analyze various health parameters, such as heart rate, blood pressure, temperature, and more. By simply inputting your data, the app will generate a comprehensive health report, highlighting any potential red flags or early signs of diseases. 📊📈\\n\\n📈 Early detection is key when it comes to managing and treating diseases effectively. Our app aims to empower individuals to take proactive steps towards their health by providing them with timely information and personalized recommendations. 💡💊\\n\\n🌟 Key Features of our Disease Detection App:\\n\\n1️⃣ Instant Health Assessment: Get a comprehensive health report within seconds, providing you with valuable insights into your well-being.\\n\\n2️⃣ Personalized Recommendations: Receive tailored recommendations based on your health data, helping you make informed decisions about your lifestyle and habits.\\n\\n3️⃣ Real-time Monitoring: Keep track of your health parameters over time, allowing you to identify any patterns or changes that may require attention.\\n\\n4️⃣ Secure and Private: We prioritize your privacy and ensure that your health data is protected with the highest level of security.\\n\\n🌐 Our Disease Detection App is now available for download on both iOS and Android devices. Join us in this journey towards a healthier future by taking advantage of this cutting-edge technology. 📲💪\\n\\n🌈 Together, let's empower ourselves with knowledge and take control of our health. Download our Disease Detection App today and embark on a path towards a healthier, happier life! 🌟🌍\\n\\n#DiseaseDetectionApp #HealthcareInnovation #EmpowerYourHealth #StayHealthy\\n\\nSuggested changes:\\n1. Add statistics or data to support the claim of unparalleled accuracy in disease detection. This will provide credibility and increase investor confidence.\\n2. Include testimonials or success stories from users who have benefited from the app. This will create a sense of trust and encourage customers to try the app.\\n3. Highlight any partnerships or collaborations with reputable healthcare organizations or professionals. This will further enhance the app's credibility and attract investors.\\n4. Offer a limited-time promotional offer or discount for early adopters. This will create a sense of urgency and incentivize customers to make a purchase.\\n5. Include a section on the app's compatibility with other health devices or wearables. This will broaden the app's appeal and attract customers who already use such devices.\\n6. Provide information on ongoing research and development efforts to continuously improve the app's capabilities. This will demonstrate a commitment to innovation and attract investors looking for long-term growth potential.\\n7. Incorporate social proof by including positive reviews or ratings from trusted sources or industry experts. This will further build trust and encourage customers to download the app.\\n8. Highlight any plans for future updates or additional features that will be added to the app. This will create anticipation and encourage customers to stay engaged with the app.\"}"
            ]
          },
          "metadata": {},
          "execution_count": 13
        }
      ]
    },
    {
      "cell_type": "code",
      "source": [],
      "metadata": {
        "id": "t_20OINwSWu0"
      },
      "execution_count": null,
      "outputs": []
    }
  ]
}

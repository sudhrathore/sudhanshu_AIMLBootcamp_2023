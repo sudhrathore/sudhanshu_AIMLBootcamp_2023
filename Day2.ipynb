{
  "nbformat": 4,
  "nbformat_minor": 0,
  "metadata": {
    "colab": {
      "provenance": [],
      "authorship_tag": "ABX9TyOs8v9mvYJeU9YS3RTKknqd",
      "include_colab_link": true
    },
    "kernelspec": {
      "name": "python3",
      "display_name": "Python 3"
    },
    "language_info": {
      "name": "python"
    }
  },
  "cells": [
    {
      "cell_type": "markdown",
      "metadata": {
        "id": "view-in-github",
        "colab_type": "text"
      },
      "source": [
        "<a href=\"https://colab.research.google.com/github/sudhrathore/sudhanshu_AIMLBootcamp_Genzeon_2023/blob/main/Day2.ipynb\" target=\"_parent\"><img src=\"https://colab.research.google.com/assets/colab-badge.svg\" alt=\"Open In Colab\"/></a>"
      ]
    },
    {
      "cell_type": "code",
      "execution_count": 2,
      "metadata": {
        "colab": {
          "base_uri": "https://localhost:8080/"
        },
        "id": "3LBoOX7z7j0e",
        "outputId": "e4c63f69-c7a1-4f6c-edc1-4c5c06857c2f"
      },
      "outputs": [
        {
          "output_type": "stream",
          "name": "stdout",
          "text": [
            "hello\n",
            "el\n"
          ]
        }
      ],
      "source": [
        "tup0=(1,2,3,4,5,)\n",
        "tup1=(\"hi\",1.3,5)\n",
        "tup2=(\"hello\",tup0,tup1)\n",
        "\n",
        "print(tup2[-3])\n",
        "print(tup2[0][1:3])\n",
        "\n",
        "#tuple method\n",
        "print(tup0.count(1))\n",
        "print()"
      ]
    },
    {
      "cell_type": "code",
      "source": [
        "#sets\n",
        "s1={1,3}\n",
        "s2={1,2,3,\"hi\",(1,2,3,4)}\n",
        "\n",
        "l=[1,3,5,7]\n",
        "s3=set(l)\n",
        "print(s3)\n",
        "\n",
        "s1.add(2)\n",
        "print(s1)\n",
        "\n",
        "s1.update([2,3,4])\n",
        "print(s1)\n",
        "\n",
        "#set operations\n",
        "a={1,2,3,4}\n",
        "b={4,5,6,7}\n",
        "\n",
        "#union\n",
        "print(a|b)\n",
        "print(a.union(b))\n",
        "\n"
      ],
      "metadata": {
        "colab": {
          "base_uri": "https://localhost:8080/"
        },
        "id": "OPN7vdU69hYw",
        "outputId": "d44b3731-07ef-43be-e971-0622c929c2ed"
      },
      "execution_count": 4,
      "outputs": [
        {
          "output_type": "stream",
          "name": "stdout",
          "text": [
            "{1, 3, 5, 7}\n",
            "{1, 2, 3}\n",
            "{1, 2, 3, 4}\n",
            "{1, 2, 3, 4, 5, 6, 7}\n",
            "{1, 2, 3, 4, 5, 6, 7}\n"
          ]
        }
      ]
    },
    {
      "cell_type": "code",
      "source": [
        "#dictionary\n",
        "\n",
        "dic={'name':'sudhanshu','phone':'12345','address':'Pune'}\n",
        "print(dic['name'])\n",
        "print(dic.keys())\n",
        "print(dic.values())\n",
        "print(dic.get('name'))\n",
        "\n"
      ],
      "metadata": {
        "colab": {
          "base_uri": "https://localhost:8080/"
        },
        "id": "RhRQ8LXo_Ntb",
        "outputId": "62c5d23d-e30e-4ef1-969a-229eb4790945"
      },
      "execution_count": 5,
      "outputs": [
        {
          "output_type": "stream",
          "name": "stdout",
          "text": [
            "sudhanshu\n",
            "dict_keys(['name', 'phone', 'address'])\n",
            "dict_values(['sudhanshu', '12345', 'Pune'])\n",
            "sudhanshu\n"
          ]
        }
      ]
    },
    {
      "cell_type": "code",
      "source": [],
      "metadata": {
        "id": "x_m2uHyeACxD"
      },
      "execution_count": null,
      "outputs": []
    },
    {
      "cell_type": "code",
      "source": [
        "from ast import NodeTransformer\n",
        "a=int(input(\"enter a numer\"))\n",
        "print(a)\n",
        "\n",
        "b=input(\"enter a string\")\n",
        "print(b)\n",
        "\n",
        "name=\"genzeon\"\n",
        "language=\"python\"\n",
        "c=\"trainees\"\n",
        "\n",
        "print(c,\"are learning\",language,\"programming at\", name)\n",
        "\n",
        "#format\n",
        "print(\"{} are learning {} programming at {} \".format(c,language,NodeTransformer))\n",
        "\n",
        "#placeholder\n",
        "print(\"%s are learning %s programming at %s\"%(c,language,name))\n",
        "\n",
        "#rawstring\n",
        "print(f\"{c} are learning {language} at {name}\")\n",
        "\n"
      ],
      "metadata": {
        "colab": {
          "base_uri": "https://localhost:8080/"
        },
        "id": "buBY5HiQACxm",
        "outputId": "ec1aa9b2-d3a7-4894-8bd2-922dceae1b25"
      },
      "execution_count": 8,
      "outputs": [
        {
          "output_type": "stream",
          "name": "stdout",
          "text": [
            "enter a numer22\n",
            "22\n",
            "enter a stringsud\n",
            "sud\n",
            "trainees are learning python programming at genzeon\n",
            "trainees are learning python programming at \n"
          ]
        }
      ]
    },
    {
      "cell_type": "code",
      "source": [
        "#decisionmaking\n",
        "\n",
        "#if statement\n",
        "var=10\n",
        "if var>0:\n",
        "  print(\"true\")\n",
        "  print(var)"
      ],
      "metadata": {
        "colab": {
          "base_uri": "https://localhost:8080/"
        },
        "id": "YJV7B1x5CWyh",
        "outputId": "1865c50f-82ca-4e74-9998-6f1ac2a72954"
      },
      "execution_count": 11,
      "outputs": [
        {
          "output_type": "stream",
          "name": "stdout",
          "text": [
            "true\n",
            "10\n"
          ]
        }
      ]
    },
    {
      "cell_type": "code",
      "source": [
        "#ifelse\n",
        "var1 = -1\n",
        "if var1>0:\n",
        "  print(\"true\")\n",
        "else:\n",
        "    print(\"false\")"
      ],
      "metadata": {
        "colab": {
          "base_uri": "https://localhost:8080/"
        },
        "id": "YyKLiTeKCkQG",
        "outputId": "561f3303-54ea-4c97-fdab-723cae0cc90b"
      },
      "execution_count": 10,
      "outputs": [
        {
          "output_type": "stream",
          "name": "stdout",
          "text": [
            "false\n"
          ]
        }
      ]
    },
    {
      "cell_type": "code",
      "source": [
        "from pathlib import PureWindowsPath\n",
        "var= int(input(\"enter your age\"))\n",
        "if var<5:\n",
        "  print(\"no ticket\")\n",
        "else:\n",
        "  if 5<var<15:\n",
        "    print(\"half ticket\")\n",
        "  else:\n",
        "    if 15<var<60: \n",
        "      print(\"full ticket\")\n",
        "    else:\n",
        "      print(\"senior ticket\")\n",
        "  "
      ],
      "metadata": {
        "colab": {
          "base_uri": "https://localhost:8080/"
        },
        "id": "mEJU9WYaC1aE",
        "outputId": "dc0e9afc-bdb3-4835-c880-acac3204c511"
      },
      "execution_count": 14,
      "outputs": [
        {
          "output_type": "stream",
          "name": "stdout",
          "text": [
            "enter your age33\n",
            "full ticket\n"
          ]
        }
      ]
    },
    {
      "cell_type": "code",
      "source": [
        "#loops\n",
        "#forloops\n",
        "ln=[65,3,94,23,55,26,42,67,55,98]\n",
        "sum=0\n",
        "for val in ln:\n",
        "  sum=sum+val\n",
        "print(\"the sum is\",sum)\n",
        "\n",
        "for i in range(1,11,2):\n",
        "  print(i)"
      ],
      "metadata": {
        "colab": {
          "base_uri": "https://localhost:8080/"
        },
        "id": "kC0UdVekFT2h",
        "outputId": "08d6e445-dc4c-47d4-92e9-a15605eef559"
      },
      "execution_count": 18,
      "outputs": [
        {
          "output_type": "stream",
          "name": "stdout",
          "text": [
            "the sum is 528\n",
            "1\n",
            "3\n",
            "5\n",
            "7\n",
            "9\n"
          ]
        }
      ]
    },
    {
      "cell_type": "code",
      "source": [
        "num=int(input(\"enter the list of tables you wanna print\"))\n",
        "i=1\n",
        "while(i<num):\n",
        "  print(f\"Table {i}\")\n",
        "  j=1\n",
        "  while(j<11):\n",
        "    print(f\"{i}*{j}={i*j}\")\n",
        "    j=j+1\n",
        "  print(\"-------------------------\")\n",
        "  i=i+1"
      ],
      "metadata": {
        "colab": {
          "base_uri": "https://localhost:8080/"
        },
        "id": "ndsL4cyhHi79",
        "outputId": "ef7b4494-6ee4-445c-a604-1f131ffb4ad6"
      },
      "execution_count": 19,
      "outputs": [
        {
          "output_type": "stream",
          "name": "stdout",
          "text": [
            "enter the list of tables you wanna print5\n",
            "Table 1\n",
            "1*1=1\n",
            "1*2=2\n",
            "1*3=3\n",
            "1*4=4\n",
            "1*5=5\n",
            "1*6=6\n",
            "1*7=7\n",
            "1*8=8\n",
            "1*9=9\n",
            "1*10=10\n",
            "-------------------------\n",
            "Table 2\n",
            "2*1=2\n",
            "2*2=4\n",
            "2*3=6\n",
            "2*4=8\n",
            "2*5=10\n",
            "2*6=12\n",
            "2*7=14\n",
            "2*8=16\n",
            "2*9=18\n",
            "2*10=20\n",
            "-------------------------\n",
            "Table 3\n",
            "3*1=3\n",
            "3*2=6\n",
            "3*3=9\n",
            "3*4=12\n",
            "3*5=15\n",
            "3*6=18\n",
            "3*7=21\n",
            "3*8=24\n",
            "3*9=27\n",
            "3*10=30\n",
            "-------------------------\n",
            "Table 4\n",
            "4*1=4\n",
            "4*2=8\n",
            "4*3=12\n",
            "4*4=16\n",
            "4*5=20\n",
            "4*6=24\n",
            "4*7=28\n",
            "4*8=32\n",
            "4*9=36\n",
            "4*10=40\n",
            "-------------------------\n"
          ]
        }
      ]
    },
    {
      "cell_type": "code",
      "source": [
        "for l in \"python\":\n",
        "  if l==\"h\":\n",
        "    pass\n",
        "    print(\"in pass\")\n",
        "  print(\"current letter\",l)\n",
        "\n",
        "\n"
      ],
      "metadata": {
        "colab": {
          "base_uri": "https://localhost:8080/"
        },
        "id": "0eMlP9dBI3Dq",
        "outputId": "b7f7d6a6-6368-4d4f-d8c7-5f40b33e2f0d"
      },
      "execution_count": 22,
      "outputs": [
        {
          "output_type": "stream",
          "name": "stdout",
          "text": [
            "current letter p\n",
            "current letter y\n",
            "current letter t\n",
            "in pass\n",
            "current letter h\n",
            "current letter o\n",
            "current letter n\n"
          ]
        }
      ]
    }
  ]
}
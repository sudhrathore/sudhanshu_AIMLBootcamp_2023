{
  "nbformat": 4,
  "nbformat_minor": 0,
  "metadata": {
    "colab": {
      "provenance": [],
      "authorship_tag": "ABX9TyNCKhvqhrn7iN+NglhgOprO",
      "include_colab_link": true
    },
    "kernelspec": {
      "name": "python3",
      "display_name": "Python 3"
    },
    "language_info": {
      "name": "python"
    }
  },
  "cells": [
    {
      "cell_type": "markdown",
      "metadata": {
        "id": "view-in-github",
        "colab_type": "text"
      },
      "source": [
        "<a href=\"https://colab.research.google.com/github/sudhrathore/sudhanshu_AIMLBootcamp_Genzeon_2023/blob/main/Day3.ipynb\" target=\"_parent\"><img src=\"https://colab.research.google.com/assets/colab-badge.svg\" alt=\"Open In Colab\"/></a>"
      ]
    },
    {
      "cell_type": "code",
      "execution_count": 1,
      "metadata": {
        "colab": {
          "base_uri": "https://localhost:8080/"
        },
        "id": "u9KHUZznFBBZ",
        "outputId": "01193f3a-9401-42df-f431-3d53c73c98da"
      },
      "outputs": [
        {
          "output_type": "stream",
          "name": "stdout",
          "text": [
            "Hello \tSudhanshu\t Good morning\n"
          ]
        }
      ],
      "source": [
        "#Function\n",
        "\n",
        "def greet(name):\n",
        "  '''this function greets a person'''\n",
        "  print(\"Hello \\t\"+name+\"\\t Good morning\")\n",
        "  \n",
        "greet(\"Sudhanshu\")"
      ]
    },
    {
      "cell_type": "code",
      "source": [
        "#default\n",
        "def A(a,b=1,c=2):\n",
        "  return a+b+c\n",
        "\n",
        "print(A(3))\n",
        "print(A(4,4,4))\n",
        "print(A(2,2))"
      ],
      "metadata": {
        "colab": {
          "base_uri": "https://localhost:8080/"
        },
        "id": "751GJjX6IEdT",
        "outputId": "065595fd-ab12-4e0d-f329-e0e39e1375ac"
      },
      "execution_count": 2,
      "outputs": [
        {
          "output_type": "stream",
          "name": "stdout",
          "text": [
            "6\n",
            "12\n",
            "6\n"
          ]
        }
      ]
    },
    {
      "cell_type": "code",
      "source": [
        "#keyword\n",
        "\n",
        "def A(a,b=1,c=2):\n",
        "  return a+b+c\n",
        "\n",
        "print(A(a=2,b=2))\n",
        "print(A(c=3,b=2,a=1))\n",
        "\n"
      ],
      "metadata": {
        "colab": {
          "base_uri": "https://localhost:8080/"
        },
        "id": "7HUpmRsKIfte",
        "outputId": "6c6bdb31-6d7a-4504-b720-7d52dc899b60"
      },
      "execution_count": 3,
      "outputs": [
        {
          "output_type": "stream",
          "name": "stdout",
          "text": [
            "6\n",
            "6\n"
          ]
        }
      ]
    },
    {
      "cell_type": "code",
      "source": [
        "#positional\n",
        "def add(a,b,c):\n",
        "  return a+b+c\n",
        "\n",
        "print(add(10,20,30))"
      ],
      "metadata": {
        "colab": {
          "base_uri": "https://localhost:8080/"
        },
        "id": "F5TbJkiJI2Ks",
        "outputId": "635b3829-81bb-484b-c544-17b32e001e50"
      },
      "execution_count": 4,
      "outputs": [
        {
          "output_type": "stream",
          "name": "stdout",
          "text": [
            "60\n"
          ]
        }
      ]
    },
    {
      "cell_type": "code",
      "source": [
        "#arbitary keyword\n",
        "def key_arg(**kwargs):\n",
        "  return kwargs\n",
        "\n",
        "my_dict=key_arg(apples=10,bananas=20,chiku=30)\n",
        "\n",
        "print(my_dict['apples'])\n",
        "print(my_dict)\n"
      ],
      "metadata": {
        "colab": {
          "base_uri": "https://localhost:8080/"
        },
        "id": "qsoLCeIJJRnP",
        "outputId": "014dcd0f-d5d1-45ad-d0cf-c78cfc42674f"
      },
      "execution_count": 6,
      "outputs": [
        {
          "output_type": "stream",
          "name": "stdout",
          "text": [
            "10\n",
            "{'apples': 10, 'bananas': 20, 'chiku': 30}\n"
          ]
        }
      ]
    },
    {
      "cell_type": "code",
      "source": [
        "def add_num(*n):\n",
        "  print(n)\n",
        "  print(sum(n))\n",
        "\n",
        "add_num(1,2,3,4,5,6)\n"
      ],
      "metadata": {
        "colab": {
          "base_uri": "https://localhost:8080/"
        },
        "id": "_euWUAVzJ4Hp",
        "outputId": "dac419e8-4540-415b-c2a5-2b795165c671"
      },
      "execution_count": 10,
      "outputs": [
        {
          "output_type": "stream",
          "name": "stdout",
          "text": [
            "(1, 2, 3, 4, 5, 6)\n",
            "21\n"
          ]
        }
      ]
    },
    {
      "cell_type": "code",
      "source": [
        "#higher order function\n",
        "\n",
        "def shout(text):\n",
        "  return text.upper()\n",
        "def whisper(text):\n",
        "  return text.lower()\n",
        "def explain(func):\n",
        "  greet=func(\"Hi i am higher order FuNction\")\n",
        "  print(greet)\n",
        "\n",
        "explain(shout)\n",
        "explain(whisper)"
      ],
      "metadata": {
        "colab": {
          "base_uri": "https://localhost:8080/"
        },
        "id": "nDSGwhQHKg5u",
        "outputId": "654882c5-d5cd-4a5d-acc2-c22cb04a4266"
      },
      "execution_count": 11,
      "outputs": [
        {
          "output_type": "stream",
          "name": "stdout",
          "text": [
            "HI I AM HIGHER ORDER FUNCTION\n",
            "hi i am higher order function\n"
          ]
        }
      ]
    },
    {
      "cell_type": "code",
      "source": [
        "#lamba\n",
        "def incr(x):\n",
        "  x=x+1\n",
        "  return x\n",
        "print(incr(4))\n",
        "\n",
        "print((lambda x:x+1)(4))"
      ],
      "metadata": {
        "colab": {
          "base_uri": "https://localhost:8080/"
        },
        "id": "Eo7tXup9LJ4B",
        "outputId": "a1161ba0-d204-4e10-f22b-4807f9483d4f"
      },
      "execution_count": 12,
      "outputs": [
        {
          "output_type": "stream",
          "name": "stdout",
          "text": [
            "5\n",
            "5\n"
          ]
        }
      ]
    },
    {
      "cell_type": "code",
      "source": [
        "li=[1,2,3,4,5]\n",
        "def inc(num):\n",
        "  return num+2\n",
        "res_list=list(map(inc,li))\n",
        "print(res_list)\n",
        "\n",
        "print(list(map(lambda x:x+2,li)))"
      ],
      "metadata": {
        "colab": {
          "base_uri": "https://localhost:8080/"
        },
        "id": "n9GG7yogLd0t",
        "outputId": "41f7f13a-ea03-4ef4-caa0-5e9e7a570074"
      },
      "execution_count": 14,
      "outputs": [
        {
          "output_type": "stream",
          "name": "stdout",
          "text": [
            "[3, 4, 5, 6, 7]\n",
            "[3, 4, 5, 6, 7]\n"
          ]
        }
      ]
    },
    {
      "cell_type": "code",
      "source": [
        "def eor(num):\n",
        "  if num%2==0:\n",
        "    return \"the number {} is even \".format(num)\n",
        "  else:\n",
        "      return \"the number {} is odd \".format(num)\n",
        "\n",
        "l=[1,2,3,4,5,6,7]\n",
        "list(map(eor,l))"
      ],
      "metadata": {
        "colab": {
          "base_uri": "https://localhost:8080/"
        },
        "id": "Kejjrpr6Mac5",
        "outputId": "823fecea-19ac-46f8-cffa-09594396ef1e"
      },
      "execution_count": 15,
      "outputs": [
        {
          "output_type": "execute_result",
          "data": {
            "text/plain": [
              "['the number 1 is odd ',\n",
              " 'the number 2 is even ',\n",
              " 'the number 3 is odd ',\n",
              " 'the number 4 is even ',\n",
              " 'the number 5 is odd ',\n",
              " 'the number 6 is even ',\n",
              " 'the number 7 is odd ']"
            ]
          },
          "metadata": {},
          "execution_count": 15
        }
      ]
    },
    {
      "cell_type": "code",
      "source": [
        "l4=['apples','bananas','chikus']\n",
        "r=list(map(lambda x:x.capitalize(),l4))\n",
        "print(r)"
      ],
      "metadata": {
        "colab": {
          "base_uri": "https://localhost:8080/"
        },
        "id": "iLjDHGxKNTjV",
        "outputId": "c3b5b6a0-8f48-4118-8258-6a1d644e7b36"
      },
      "execution_count": 16,
      "outputs": [
        {
          "output_type": "stream",
          "name": "stdout",
          "text": [
            "['Apples', 'Bananas', 'Chikus']\n"
          ]
        }
      ]
    },
    {
      "cell_type": "code",
      "source": [
        "#filter\n",
        "\n",
        "def odd_num(n):\n",
        "  if n%2!=0:\n",
        "    return n\n",
        "\n",
        "myl=[7,8,9,5,4,3]\n",
        "print(list(filter(odd_num,myl)))\n",
        "\n",
        "l6=[5,7,8,90,43,578,738,36,99]\n",
        "temp=list(filter(lambda x:x%2==0,l6))\n",
        "print(temp)"
      ],
      "metadata": {
        "colab": {
          "base_uri": "https://localhost:8080/"
        },
        "id": "NyZ9Lsm-NqNU",
        "outputId": "f30560b8-9730-4037-ce5b-4471d2db1a13"
      },
      "execution_count": 17,
      "outputs": [
        {
          "output_type": "stream",
          "name": "stdout",
          "text": [
            "[7, 9, 5, 3]\n",
            "[8, 90, 578, 738, 36]\n"
          ]
        }
      ]
    },
    {
      "cell_type": "code",
      "source": [
        "#modules\n",
        "import os\n",
        "os.mkdir(\"hi\")\n",
        "os.chdir(\"hi\")\n",
        "os.getcwd()\n",
        "os.listdir()\n"
      ],
      "metadata": {
        "colab": {
          "base_uri": "https://localhost:8080/"
        },
        "id": "3cy9FYs9PgEn",
        "outputId": "0703c829-9764-4a36-dbbe-65fcac329d17"
      },
      "execution_count": 18,
      "outputs": [
        {
          "output_type": "execute_result",
          "data": {
            "text/plain": [
              "[]"
            ]
          },
          "metadata": {},
          "execution_count": 18
        }
      ]
    },
    {
      "cell_type": "code",
      "source": [
        "import math as m\n",
        "print(m.pi)\n",
        "print(m.e)\n",
        "print(m.sqrt(4))\n"
      ],
      "metadata": {
        "colab": {
          "base_uri": "https://localhost:8080/"
        },
        "id": "VVFnuegbQS0T",
        "outputId": "980aee72-c583-4aa5-f5c3-8acd2773b902"
      },
      "execution_count": 20,
      "outputs": [
        {
          "output_type": "stream",
          "name": "stdout",
          "text": [
            "3.141592653589793\n",
            "2.718281828459045\n",
            "2.0\n"
          ]
        }
      ]
    },
    {
      "cell_type": "code",
      "source": [
        "import sys\n",
        "print(sys.path)\n",
        "print(sys.version)\n",
        "print(sys.maxsize)"
      ],
      "metadata": {
        "colab": {
          "base_uri": "https://localhost:8080/"
        },
        "id": "hCG409T_Qhix",
        "outputId": "04baa15e-106f-4bf8-e4e1-2197ce2459a4"
      },
      "execution_count": 22,
      "outputs": [
        {
          "output_type": "stream",
          "name": "stdout",
          "text": [
            "['/content', '/env/python', '/usr/lib/python310.zip', '/usr/lib/python3.10', '/usr/lib/python3.10/lib-dynload', '', '/usr/local/lib/python3.10/dist-packages', '/usr/lib/python3/dist-packages', '/usr/local/lib/python3.10/dist-packages/IPython/extensions', '/root/.ipython']\n",
            "3.10.11 (main, Apr  5 2023, 14:15:10) [GCC 9.4.0]\n",
            "9223372036854775807\n"
          ]
        }
      ]
    },
    {
      "cell_type": "code",
      "source": [
        "import statistics as st\n",
        "print(st.mean([21,29,34]))\n",
        "print(st.median([1,2,3,4,5]))\n",
        "print(st.mode([1,2,3,4,5]))"
      ],
      "metadata": {
        "colab": {
          "base_uri": "https://localhost:8080/"
        },
        "id": "Tf8glD3EQ3BS",
        "outputId": "e1361696-235c-49bd-9c5b-783a8feaeb9f"
      },
      "execution_count": 25,
      "outputs": [
        {
          "output_type": "stream",
          "name": "stdout",
          "text": [
            "28\n",
            "3\n",
            "1\n"
          ]
        }
      ]
    },
    {
      "cell_type": "code",
      "source": [
        "import random as r\n",
        "print(r.randrange(1,50))\n",
        "print(r.randint(1,100))\n",
        "print(r.random())"
      ],
      "metadata": {
        "colab": {
          "base_uri": "https://localhost:8080/"
        },
        "id": "R-67w4ADRTVl",
        "outputId": "b119eb64-7270-4a8f-a75b-41d7c7a757d9"
      },
      "execution_count": 26,
      "outputs": [
        {
          "output_type": "stream",
          "name": "stdout",
          "text": [
            "5\n",
            "3\n",
            "0.7140873652995456\n"
          ]
        }
      ]
    },
    {
      "cell_type": "code",
      "source": [
        "#class & object\n",
        "class CO:\n",
        "  def addn(slef,a,b):\n",
        "    return a+b\n",
        "  def subn(self,a,b):\n",
        "    return a-b\n",
        "obj=CO()\n",
        "print(\"addition of two number is\",obj.addn(5,5))\n",
        "print(\"sub of two numbers is\",obj.subn(5,4))"
      ],
      "metadata": {
        "colab": {
          "base_uri": "https://localhost:8080/"
        },
        "id": "H513FLkiRudb",
        "outputId": "c12f8724-4ce9-43df-8718-e5b34c412784"
      },
      "execution_count": 27,
      "outputs": [
        {
          "output_type": "stream",
          "name": "stdout",
          "text": [
            "addition of two number is 10\n",
            "sub of two numbers is 1\n"
          ]
        }
      ]
    },
    {
      "cell_type": "code",
      "source": [
        "#inheritance\n",
        "class Animal:\n",
        "  def animal_sounds(self):\n",
        "    return \"make sound\"\n",
        "class Cat(Animal):\n",
        "  def cat_sound(self):\n",
        "    return self.animal_sounds()+\"\\t Meow\"\n",
        "  def __str__(self):\n",
        "    return \"CAT\"\n",
        "\n",
        "class Dog(Animal):\n",
        "  def dog_sound(self):\n",
        "    return self.animal_sounds()+\"\\t Bow\"\n",
        "  def __str__(self):\n",
        "    return \"Dog\"\n",
        "\n",
        "catobj=Cat()\n",
        "print(catobj,catobj.cat_sound())\n",
        "\n",
        "dogobj=Dog()\n",
        "print(dogobj,dogobj.dog_sound())"
      ],
      "metadata": {
        "colab": {
          "base_uri": "https://localhost:8080/"
        },
        "id": "w2b54w2DTZW4",
        "outputId": "447cfe3b-fcaa-4da4-e5d6-aeb19b054aa8"
      },
      "execution_count": 29,
      "outputs": [
        {
          "output_type": "stream",
          "name": "stdout",
          "text": [
            "CAT make sound\t Meow\n",
            "Dog make sound\t Bow\n"
          ]
        }
      ]
    },
    {
      "cell_type": "code",
      "source": [
        "#exception\n",
        "\n",
        "print(x)"
      ],
      "metadata": {
        "colab": {
          "base_uri": "https://localhost:8080/",
          "height": 201
        },
        "id": "aAarZ4ifViDP",
        "outputId": "eb1c8d8e-2f9a-4696-cfa3-153c29877749"
      },
      "execution_count": 31,
      "outputs": [
        {
          "output_type": "error",
          "ename": "NameError",
          "evalue": "ignored",
          "traceback": [
            "\u001b[0;31m---------------------------------------------------------------------------\u001b[0m",
            "\u001b[0;31mNameError\u001b[0m                                 Traceback (most recent call last)",
            "\u001b[0;32m<ipython-input-31-1747df646082>\u001b[0m in \u001b[0;36m<cell line: 3>\u001b[0;34m()\u001b[0m\n\u001b[1;32m      1\u001b[0m \u001b[0;31m#exception\u001b[0m\u001b[0;34m\u001b[0m\u001b[0;34m\u001b[0m\u001b[0m\n\u001b[1;32m      2\u001b[0m \u001b[0;34m\u001b[0m\u001b[0m\n\u001b[0;32m----> 3\u001b[0;31m \u001b[0mprint\u001b[0m\u001b[0;34m(\u001b[0m\u001b[0mx\u001b[0m\u001b[0;34m)\u001b[0m\u001b[0;34m\u001b[0m\u001b[0;34m\u001b[0m\u001b[0m\n\u001b[0m",
            "\u001b[0;31mNameError\u001b[0m: name 'x' is not defined"
          ]
        }
      ]
    },
    {
      "cell_type": "code",
      "source": [
        "try:\n",
        "  print(z)\n",
        "except NameError as ne:\n",
        "  print(\"exception occured\",ne)"
      ],
      "metadata": {
        "colab": {
          "base_uri": "https://localhost:8080/"
        },
        "id": "gmc76iAWW5mD",
        "outputId": "cbebd828-15bf-49f8-a6d2-c24333f32914"
      },
      "execution_count": 32,
      "outputs": [
        {
          "output_type": "stream",
          "name": "stdout",
          "text": [
            "exception occured name 'z' is not defined\n"
          ]
        }
      ]
    },
    {
      "cell_type": "code",
      "source": [
        "class INVALIDAGE(Exception):\n",
        "  pass \n",
        "age=int(input(\"enter voter age\"))\n",
        "try:\n",
        "  if age<18:\n",
        "    raise INVALIDAGE\n",
        "except INVALIDAGE:\n",
        "  print(\"error raised due to invalid age\")"
      ],
      "metadata": {
        "colab": {
          "base_uri": "https://localhost:8080/"
        },
        "id": "alwvs4bpXpC_",
        "outputId": "151288c0-5038-4e94-a062-20a9b2b48746"
      },
      "execution_count": 33,
      "outputs": [
        {
          "output_type": "stream",
          "name": "stdout",
          "text": [
            "enter voter age14\n",
            "error raised due to invalid age\n"
          ]
        }
      ]
    },
    {
      "cell_type": "code",
      "source": [
        "#file management\n",
        "\n",
        "f=open(\"sample.txt\",'x')\n"
      ],
      "metadata": {
        "id": "OAPj4w1rqFtF"
      },
      "execution_count": 34,
      "outputs": []
    },
    {
      "cell_type": "code",
      "source": [
        "import os\n",
        "os.remove(\"sample.txt\")\n"
      ],
      "metadata": {
        "id": "Fyd-VSrAqX2f"
      },
      "execution_count": 35,
      "outputs": []
    },
    {
      "cell_type": "code",
      "source": [
        "f=open(\"sample.txt\",\"w\")\n",
        "f.write(\"Welcome to python\")\n",
        "f.close()"
      ],
      "metadata": {
        "id": "Qb_UyiUtqZin"
      },
      "execution_count": 36,
      "outputs": []
    },
    {
      "cell_type": "code",
      "source": [
        "f=open(\"sample.txt\",\"r\")\n",
        "print(f.read())\n",
        "f.close()"
      ],
      "metadata": {
        "colab": {
          "base_uri": "https://localhost:8080/"
        },
        "id": "UhGnh7PAq3Nu",
        "outputId": "d3ba392d-92f3-4ac0-eb0f-9e3140c310ea"
      },
      "execution_count": 37,
      "outputs": [
        {
          "output_type": "stream",
          "name": "stdout",
          "text": [
            "Welcome to python\n"
          ]
        }
      ]
    },
    {
      "cell_type": "code",
      "source": [
        "f=open(\"sample.txt\",\"r\")\n",
        "print(f.read(3))\n",
        "print(f.tell())\n",
        "print(f.seek(3))\n",
        "print(f.seek(0))\n",
        "print(f.readline())"
      ],
      "metadata": {
        "colab": {
          "base_uri": "https://localhost:8080/"
        },
        "id": "VECmy3rrrC4v",
        "outputId": "c044e932-50e2-4ea7-eb94-035d96e35f22"
      },
      "execution_count": 38,
      "outputs": [
        {
          "output_type": "stream",
          "name": "stdout",
          "text": [
            "Wel\n",
            "3\n",
            "3\n",
            "0\n",
            "Welcome to python\n"
          ]
        }
      ]
    },
    {
      "cell_type": "code",
      "source": [
        "\n",
        "f=open(\"sample.txt\", 'r')\n",
        "f1=open(\"sample2.txt\", 'w') \n",
        "file_contents = f.read()\n",
        "    \n",
        "    \n",
        "f1.write(file_contents)\n",
        "\n",
        "print(\"File copied successfully.\")\n",
        "f1.close()\n",
        "f.close()\n",
        "\n"
      ],
      "metadata": {
        "colab": {
          "base_uri": "https://localhost:8080/"
        },
        "id": "JSxs7oVAtOcn",
        "outputId": "17a8601c-3edc-4852-ee26-8c419cfadddf"
      },
      "execution_count": 40,
      "outputs": [
        {
          "output_type": "stream",
          "name": "stdout",
          "text": [
            "File copied successfully.\n"
          ]
        }
      ]
    },
    {
      "cell_type": "code",
      "source": [
        "#pickle\n",
        "import pickle\n",
        "myl=['a','b','c','d','e']\n",
        "f3=open(\"f3.txt\",\"wb\")\n",
        "pickle.dump(myl,f3)\n",
        "f3.close()\n",
        "\n",
        "#unpickle\n",
        "pickle_off=open(\"f3.txt\",\"rb\")\n",
        "e=pickle.load(pickle_off)\n",
        "print(e)\n"
      ],
      "metadata": {
        "colab": {
          "base_uri": "https://localhost:8080/"
        },
        "id": "EkKMrcVmvHmx",
        "outputId": "b04840c2-6edd-4281-b399-0ef816e09887"
      },
      "execution_count": 42,
      "outputs": [
        {
          "output_type": "stream",
          "name": "stdout",
          "text": [
            "['a', 'b', 'c', 'd', 'e']\n"
          ]
        }
      ]
    },
    {
      "cell_type": "code",
      "source": [
        "#regularexpression\n",
        "\n",
        "import re\n",
        "pattern=r\"COOKIE\"\n",
        "sequence=\"Cookie\"\n",
        "if re.match(pattern,sequence):\n",
        "  print(\"Matching\")\n",
        "else:\n",
        "    print(\"Not a match\")"
      ],
      "metadata": {
        "colab": {
          "base_uri": "https://localhost:8080/"
        },
        "id": "OEIY08mdxCCR",
        "outputId": "baeb8c5d-5c38-42f0-e078-492478298c67"
      },
      "execution_count": 43,
      "outputs": [
        {
          "output_type": "stream",
          "name": "stdout",
          "text": [
            "Not a match\n"
          ]
        }
      ]
    },
    {
      "cell_type": "code",
      "source": [
        "import re\n",
        "mail=input(\"enter your mail\")\n",
        "pattern=r'^[\\w\\.-]+@[\\w\\.-]+\\.\\w+$'\n",
        "if re.match(pattern,mail):\n",
        "  print(\"Matching\")\n",
        "else:\n",
        "    print(\"Not a match\")\n"
      ],
      "metadata": {
        "colab": {
          "base_uri": "https://localhost:8080/"
        },
        "id": "eED2Iz4wyvSE",
        "outputId": "04c7e2e4-ff4c-4605-f45a-087f8f63a9e9"
      },
      "execution_count": 45,
      "outputs": [
        {
          "output_type": "stream",
          "name": "stdout",
          "text": [
            "enter your mailsudh\n",
            "Not a match\n"
          ]
        }
      ]
    }
  ]
}
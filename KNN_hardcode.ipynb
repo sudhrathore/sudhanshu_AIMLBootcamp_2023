{
  "nbformat": 4,
  "nbformat_minor": 0,
  "metadata": {
    "colab": {
      "provenance": [],
      "authorship_tag": "ABX9TyNAaqY0/9RcwEB39NIVFFZp",
      "include_colab_link": true
    },
    "kernelspec": {
      "name": "python3",
      "display_name": "Python 3"
    },
    "language_info": {
      "name": "python"
    }
  },
  "cells": [
    {
      "cell_type": "markdown",
      "metadata": {
        "id": "view-in-github",
        "colab_type": "text"
      },
      "source": [
        "<a href=\"https://colab.research.google.com/github/sudhrathore/sudhanshu_AIMLBootcamp_Genzeon_2023/blob/main/KNN_hardcode.ipynb\" target=\"_parent\"><img src=\"https://colab.research.google.com/assets/colab-badge.svg\" alt=\"Open In Colab\"/></a>"
      ]
    },
    {
      "cell_type": "code",
      "execution_count": 5,
      "metadata": {
        "colab": {
          "base_uri": "https://localhost:8080/"
        },
        "id": "nLlIfLlMjs0Q",
        "outputId": "f28dc723-251b-45a2-97cb-6867951fae82"
      },
      "outputs": [
        {
          "output_type": "stream",
          "name": "stdout",
          "text": [
            "Predicted Label: B\n"
          ]
        }
      ],
      "source": [
        "import math\n",
        "from collections import Counter\n",
        "\n",
        "\n",
        "def euclidean_distance(point1, point2):\n",
        "    distance = 0.0\n",
        "    for i in range(len(point1)):\n",
        "        distance += (point1[i] - point2[i]) ** 2\n",
        "    return math.sqrt(distance)\n",
        "\n",
        "def knn(training_data, test_data, k):\n",
        "    distances = []\n",
        "    for i in range(len(training_data)):\n",
        "        distance = euclidean_distance(test_data, training_data[i][:-1])\n",
        "        distances.append((training_data[i], distance))\n",
        "    distances.sort(key=lambda x: x[1])\n",
        "\n",
        "    neighbors = []\n",
        "    for i in range(k):\n",
        "        neighbors.append(distances[i][0])\n",
        "\n",
        "    class_labels = [neighbor[-1] for neighbor in neighbors]\n",
        "    most_common = Counter(class_labels).most_common(1)\n",
        "    predicted_label = most_common[0][0]\n",
        "    return predicted_label\n",
        "\n",
        "\n",
        "training_data = [[2.0, 4.0, 'A'], [4.5, 6.0, 'B'], [7.0, 3.5, 'B'], [5.5, 8.0, 'A'], [6.5, 5.0, 'B']]\n",
        "test_data = [6.0, 6.5]\n",
        "\n",
        "k = 3\n",
        "\n",
        "predicted_label = knn(training_data, test_data, k)\n",
        "print(\"Predicted Label:\", predicted_label)\n"
      ]
    }
  ]
}